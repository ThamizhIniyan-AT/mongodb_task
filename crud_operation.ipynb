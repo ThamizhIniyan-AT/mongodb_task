{
 "cells": [
  {
   "cell_type": "code",
   "execution_count": 6,
   "id": "cf9ab50f",
   "metadata": {},
   "outputs": [],
   "source": [
    "#created the connection between mongodb and python .\n",
    "import pymongo\n",
    "client = pymongo.MongoClient('mongodb://127.0.0.1:27017/')"
   ]
  },
  {
   "cell_type": "code",
   "execution_count": 8,
   "id": "5aa30252",
   "metadata": {},
   "outputs": [],
   "source": [
    "#database named monogotask has been created and stored as db.\n",
    "db = client[\"mongotask\"]"
   ]
  },
  {
   "cell_type": "code",
   "execution_count": 36,
   "id": "114b821f",
   "metadata": {},
   "outputs": [],
   "source": [
    "#new collection named tele_dir is created and stored in tele_dir.\n",
    "tele_dir = db.tele_dir"
   ]
  },
  {
   "cell_type": "code",
   "execution_count": 35,
   "id": "0d9af465",
   "metadata": {},
   "outputs": [
    {
     "data": {
      "text/plain": [
       "['tele_dir']"
      ]
     },
     "execution_count": 35,
     "metadata": {},
     "output_type": "execute_result"
    }
   ],
   "source": [
    "#to show list of collections in database\n",
    "db.list_collection_names()"
   ]
  },
  {
   "cell_type": "code",
   "execution_count": 19,
   "id": "641b8567",
   "metadata": {},
   "outputs": [],
   "source": [
    "#created a document,for inserting into the tele_dir collection . \n",
    "telephone_directory = [{\"_id\":1,\n",
    "                       \"first_name\" :\"Tharunesh\",\n",
    "                       \"lat_name\"   :\"M\",\n",
    "                       \"countrycode\":\"+91\",\n",
    "                       \"phonenumber\":int(8778278970),\n",
    "                       \"address\"    :\"#41,periyakovil st,viruthunagar\",\n",
    "                       \"location\"   :{\"city\":\"viruthunagar\",\"state\"  :\"TamilNadu\",\n",
    "                                      \"country\":\"India\"}},\n",
    "                       {\"_id\":2,\n",
    "                       \"first_name\" :\"Rohit\",\n",
    "                       \"lat_name\"   :\"M\",\n",
    "                       \"countrycode\":\"+91\",\n",
    "                       \"phonenumber\":int(9789877553),\n",
    "                       \"address\"    :\"#42,periyakovil st,gundur\",\n",
    "                       \"location\"   :{\"city\":\"gundur\",\n",
    "                                      \"state\"  :\"AndhraPradesh\",\n",
    "                                      \"country\":\"India\"}},\n",
    "                       {\"_id\":3,\n",
    "                       \"first_name\" :\"Lokesh\",\n",
    "                       \"lat_name\"   :\"K\",\n",
    "                       \"countrycode\":\"+91\",\n",
    "                       \"phonenumber\":int(9788278970),\n",
    "                       \"address\"    :\"#41,periyakovil st,yangotok\",\n",
    "                       \"location\"   :{\"city\":\"yangotok\",\n",
    "                                      \"state\"  :\"Sikkim\",\n",
    "                                      \"country\":\"India\"}},\n",
    "                       {\"_id\":4,\n",
    "                       \"first_name\" :\"Raj Kumar\",\n",
    "                       \"lat_name\"   :\"S\",\n",
    "                       \"countrycode\":\"+91\",\n",
    "                       \"phonenumber\":int(877827098),\n",
    "                       \"address\"    :\"#41,pampa st,cochin\",\n",
    "                       \"location\"   :{\"city\":\"cochin\",\n",
    "                                      \"state\"  :\"Kerala\",\n",
    "                                      \"country\":\"India\"}},\n",
    "                         {\"_id\":5,\n",
    "                       \"first_name\" :\"Rokesh\",\n",
    "                       \"lat_name\"   :\"M\",\n",
    "                       \"countrycode\":\"+91\",\n",
    "                       \"phonenumber\":int(9788278989),\n",
    "                       \"address\"    :\"#41,Anna st,arakkonam\",\n",
    "                       \"location\"   :{\"city\":\"arakkonam\",\n",
    "                                      \"state\"  :\"TamilNadu\",\n",
    "                                      \"country\":\"India\"}},\n",
    "                         {\"_id\":6,\n",
    "                       \"first_name\" :\"vinish\",\n",
    "                       \"lat_name\"   :\"K\",\n",
    "                       \"countrycode\":\"+91\",\n",
    "                       \"phonenumber\":int(9788278971),\n",
    "                       \"address\"    :\"#41,karunesh st,yangotok\",\n",
    "                       \"location\"   :{\"city\":\"yangotok\",\n",
    "                                      \"state\"  :\"Sikkim\",\n",
    "                                      \"country\":\"India\"}},\n",
    "                         {\"_id\":7,\n",
    "                       \"first_name\" :\"Anish\",\n",
    "                       \"lat_name\"   :\"S\",\n",
    "                       \"countrycode\":\"+91\",\n",
    "                       \"phonenumber\":int(9788278790),\n",
    "                       \"address\"    :\"#41,periyakovil st,yangotok\",\n",
    "                       \"location\"   :{\"city\":\"yangotok\",\n",
    "                                      \"state\"  :\"Sikkim\",\n",
    "                                      \"country\":\"India\"}},\n",
    "                         {\"_id\":8,\n",
    "                       \"first_name\" :\"Ayesha\",\n",
    "                       \"lat_name\"   :\"K\",\n",
    "                       \"countrycode\":\"+91\",\n",
    "                       \"phonenumber\":int(9788728970),\n",
    "                       \"address\"    :\"#41,mount st,yangotok\",\n",
    "                       \"location\"   :{\"city\":\"kozehodu\",\n",
    "                                      \"state\"  :\"kerala\",\n",
    "                                      \"country\":\"India\"}},\n",
    "                         {\"_id\":9,\n",
    "                       \"first_name\" :\"sudha\",\n",
    "                       \"lat_name\"   :\"K\",\n",
    "                       \"countrycode\":\"+91\",\n",
    "                       \"phonenumber\":int(9799278970),\n",
    "                       \"address\"    :\"#41,peacock st,karana\",\n",
    "                       \"location\"   :{\"city\":\"karna\",\n",
    "                                      \"state\"  :\"karnataka\",\n",
    "                                      \"country\":\"India\"}},\n",
    "                         {\"_id\":10,\n",
    "                       \"first_name\" :\"Teja\",\n",
    "                       \"lat_name\"   :\"K\",\n",
    "                       \"countrycode\":\"+91\",\n",
    "                       \"phonenumber\":int(9787258970),\n",
    "                       \"address\"    :\"#41,rayasema st,kadapa\",\n",
    "                       \"location\"   :{\"city\":\"kadapa\",\n",
    "                                      \"state\"  :\"AndhraPradesh\",\n",
    "                                      \"country\":\"India\"}},\n",
    "                         {\"_id\":11,\n",
    "                       \"first_name\" :\"Prem\",\n",
    "                       \"lat_name\"   :\"M\",\n",
    "                       \"countrycode\":\"+91\",\n",
    "                       \"phonenumber\":int(8788278970),\n",
    "                       \"address\"    :\"#41,periyakovil st,theni\",\n",
    "                       \"location\"   :{\"city\":\"theni\",\n",
    "                                      \"state\"  :\"TamilNadu\",\n",
    "                                      }},\n",
    "                         {\"_id\":12,\n",
    "                       \"first_name\" :\"Jeni\",\n",
    "                       \"lat_name\"   :\"J\",\n",
    "                       \"countrycode\":\"+91\",\n",
    "                       \"phonenumber\":int(6388278970),\n",
    "                       \"address\"    :\"#41,poda st,poovana\",\n",
    "                       \"location\"   :{\"city\":\"poovana\",\n",
    "                                      \"state\"  :\"karnataka\",\n",
    "                                      }},]"
   ]
  },
  {
   "cell_type": "code",
   "execution_count": null,
   "id": "84ece877",
   "metadata": {},
   "outputs": [],
   "source": [
    "# inserting the above created document.\n",
    "#tele_dir.insert_one(telephone_directory)"
   ]
  },
  {
   "cell_type": "code",
   "execution_count": 20,
   "id": "67edfaad",
   "metadata": {},
   "outputs": [],
   "source": [
    "if isinstance(telephone_directory,list):\n",
    "    tele_dir.insert_many(telephone_directory)\n",
    "else:\n",
    "    tele_dir.insert_one(telephone_directory)"
   ]
  },
  {
   "cell_type": "code",
   "execution_count": 21,
   "id": "39bc0388",
   "metadata": {},
   "outputs": [
    {
     "data": {
      "text/plain": [
       "{'_id': 0,\n",
       " 'first_name': 'Thamizhiniyan',\n",
       " 'lat_name': 'A.T',\n",
       " 'countrycode': '+91',\n",
       " 'phonenumber': 8778295795,\n",
       " 'address': '#40,karuppukovil,viruthunagar',\n",
       " 'location': {'state': 'TamilNadu', 'country': 'India'}}"
      ]
     },
     "execution_count": 21,
     "metadata": {},
     "output_type": "execute_result"
    }
   ],
   "source": [
    "#query the one data from the collection tele_dir\n",
    "tele_dir.find_one()"
   ]
  },
  {
   "cell_type": "code",
   "execution_count": 27,
   "id": "72daf440",
   "metadata": {},
   "outputs": [],
   "source": [
    "#finding by skipping first document _id =0 and limited the document to 3:\n",
    "skipped = tele_dir.find().skip(1).limit(3)"
   ]
  },
  {
   "cell_type": "code",
   "execution_count": 28,
   "id": "e591ace8",
   "metadata": {},
   "outputs": [
    {
     "name": "stdout",
     "output_type": "stream",
     "text": [
      "{'_id': 1, 'first_name': 'Tharunesh', 'lat_name': 'M', 'countrycode': '+91', 'phonenumber': 8778278970, 'address': '#41,periyakovil st,viruthunagar', 'location': {'city': 'viruthunagar', 'state': 'TamilNadu', 'country': 'India'}}\n",
      "{'_id': 2, 'first_name': 'Rohit', 'lat_name': 'M', 'countrycode': '+91', 'phonenumber': 9789877553, 'address': '#42,periyakovil st,gundur', 'location': {'city': 'gundur', 'state': 'AndhraPradesh', 'country': 'India'}}\n",
      "{'_id': 3, 'first_name': 'Lokesh', 'lat_name': 'K', 'countrycode': '+91', 'phonenumber': 9788278970, 'address': '#41,periyakovil st,yangotok', 'location': {'city': 'yangotok', 'state': 'Sikkim', 'country': 'India'}}\n"
     ]
    }
   ],
   "source": [
    "for i in skipped:\n",
    "    print (i)"
   ]
  },
  {
   "cell_type": "code",
   "execution_count": 42,
   "id": "8f36af88",
   "metadata": {},
   "outputs": [],
   "source": [
    "#sorting the based on id:\n",
    "sort=tele_dir.find().sort('_id',-1).limit(3)"
   ]
  },
  {
   "cell_type": "code",
   "execution_count": 43,
   "id": "e3f2e5cf",
   "metadata": {},
   "outputs": [
    {
     "name": "stdout",
     "output_type": "stream",
     "text": [
      "{'_id': 12, 'first_name': 'Jeni', 'lat_name': 'J', 'countrycode': '+91', 'phonenumber': 6388278970, 'address': '#41,poda st,poovana', 'location': {'city': 'poovana', 'state': 'karnataka'}}\n",
      "{'_id': 11, 'first_name': 'Prem', 'lat_name': 'M', 'countrycode': '+91', 'phonenumber': 8788278970, 'address': '#41,periyakovil st,theni', 'location': {'city': 'theni', 'state': 'TamilNadu'}}\n",
      "{'_id': 10, 'first_name': 'Teja', 'lat_name': 'K', 'countrycode': '+91', 'phonenumber': 9787258970, 'address': '#41,rayasema st,kadapa', 'location': {'city': 'kadapa', 'state': 'AndhraPradesh', 'country': 'India'}}\n"
     ]
    }
   ],
   "source": [
    "for i in sort:\n",
    "    print(i)"
   ]
  },
  {
   "cell_type": "code",
   "execution_count": 52,
   "id": "9ada06ec",
   "metadata": {},
   "outputs": [],
   "source": [
    "#sorting based on state: here in this sorting done in descending order first lower case letter and upper case\n",
    "sort_state = tele_dir.find().sort('location.state',-1)"
   ]
  },
  {
   "cell_type": "code",
   "execution_count": 53,
   "id": "f4009604",
   "metadata": {},
   "outputs": [
    {
     "name": "stdout",
     "output_type": "stream",
     "text": [
      "{'_id': 8, 'first_name': 'Ayesha', 'lat_name': 'K', 'countrycode': '+91', 'phonenumber': 9788728970, 'address': '#41,mount st,yangotok', 'location': {'city': 'kozehodu', 'state': 'kerala', 'country': 'India'}}\n",
      "{'_id': 9, 'first_name': 'sudha', 'lat_name': 'K', 'countrycode': '+91', 'phonenumber': 9799278970, 'address': '#41,peacock st,karana', 'location': {'city': 'karna', 'state': 'karnataka', 'country': 'India'}}\n",
      "{'_id': 12, 'first_name': 'Jeni', 'lat_name': 'J', 'countrycode': '+91', 'phonenumber': 6388278970, 'address': '#41,poda st,poovana', 'location': {'city': 'poovana', 'state': 'karnataka'}}\n",
      "{'_id': 0, 'first_name': 'Thamizhiniyan', 'lat_name': 'A.T', 'countrycode': '+91', 'phonenumber': 8778295795, 'address': '#40,karuppukovil,viruthunagar', 'location': {'state': 'Tamil nadu', 'country': 'India'}}\n",
      "{'_id': 1, 'first_name': 'Tharunesh', 'lat_name': 'M', 'countrycode': '+91', 'phonenumber': 8778278970, 'address': '#41,periyakovil st,viruthunagar', 'location': {'city': 'viruthunagar', 'state': 'Tamil nadu', 'country': 'India'}}\n",
      "{'_id': 5, 'first_name': 'Rokesh', 'lat_name': 'M', 'countrycode': '+91', 'phonenumber': 9788278989, 'address': '#41,Anna st,arakkonam', 'location': {'city': 'arakkonam', 'state': 'Tamil nadu', 'country': 'India'}}\n",
      "{'_id': 11, 'first_name': 'Prem', 'lat_name': 'M', 'countrycode': '+91', 'phonenumber': 8788278970, 'address': '#41,periyakovil st,theni', 'location': {'city': 'theni', 'state': 'Tamil nadu'}}\n",
      "{'_id': 3, 'first_name': 'Lokesh', 'lat_name': 'K', 'countrycode': '+91', 'phonenumber': 9788278970, 'address': '#41,periyakovil st,yangotok', 'location': {'city': 'yangotok', 'state': 'Sikkim', 'country': 'India'}}\n",
      "{'_id': 6, 'first_name': 'vinish', 'lat_name': 'K', 'countrycode': '+91', 'phonenumber': 9788278971, 'address': '#41,karunesh st,yangotok', 'location': {'city': 'yangotok', 'state': 'Sikkim', 'country': 'India'}}\n",
      "{'_id': 7, 'first_name': 'Anish', 'lat_name': 'S', 'countrycode': '+91', 'phonenumber': 9788278790, 'address': '#41,periyakovil st,yangotok', 'location': {'city': 'yangotok', 'state': 'Sikkim', 'country': 'India'}}\n",
      "{'_id': 4, 'first_name': 'Raj Kumar', 'lat_name': 'S', 'countrycode': '+91', 'phonenumber': 877827098, 'address': '#41,pampa st,cochin', 'location': {'city': 'cochin', 'state': 'Kerala', 'country': 'India'}}\n",
      "{'_id': 2, 'first_name': 'Rohit', 'lat_name': 'M', 'countrycode': '+91', 'phonenumber': 9789877553, 'address': '#42,periyakovil st,gundur', 'location': {'city': 'gundur', 'state': 'AndhraPradesh', 'country': 'India'}}\n",
      "{'_id': 10, 'first_name': 'Teja', 'lat_name': 'K', 'countrycode': '+91', 'phonenumber': 9787258970, 'address': '#41,rayasema st,kadapa', 'location': {'city': 'kadapa', 'state': 'AndhraPradesh', 'country': 'India'}}\n"
     ]
    }
   ],
   "source": [
    "for i in sort_state:\n",
    "    print(i)"
   ]
  },
  {
   "cell_type": "code",
   "execution_count": 58,
   "id": "1aa862a9",
   "metadata": {},
   "outputs": [],
   "source": [
    "# querying out state name staring with lowercase ka\n",
    "reg=tele_dir.find({'location.state':{'$regex':'^ka'}})"
   ]
  },
  {
   "cell_type": "code",
   "execution_count": 59,
   "id": "7477ab60",
   "metadata": {},
   "outputs": [
    {
     "name": "stdout",
     "output_type": "stream",
     "text": [
      "{'_id': 9, 'first_name': 'sudha', 'lat_name': 'K', 'countrycode': '+91', 'phonenumber': 9799278970, 'address': '#41,peacock st,karana', 'location': {'city': 'karna', 'state': 'karnataka', 'country': 'India'}}\n",
      "{'_id': 12, 'first_name': 'Jeni', 'lat_name': 'J', 'countrycode': '+91', 'phonenumber': 6388278970, 'address': '#41,poda st,poovana', 'location': {'city': 'poovana', 'state': 'karnataka'}}\n"
     ]
    }
   ],
   "source": [
    "for i in reg:\n",
    "    print(i)"
   ]
  },
  {
   "cell_type": "code",
   "execution_count": 62,
   "id": "02917044",
   "metadata": {},
   "outputs": [],
   "source": [
    "not_exists=tele_dir.find({'location.country':{'$exists':False}})"
   ]
  },
  {
   "cell_type": "code",
   "execution_count": 63,
   "id": "8c9c86b1",
   "metadata": {},
   "outputs": [
    {
     "name": "stdout",
     "output_type": "stream",
     "text": [
      "{'_id': 11, 'first_name': 'Prem', 'lat_name': 'M', 'countrycode': '+91', 'phonenumber': 8788278970, 'address': '#41,periyakovil st,theni', 'location': {'city': 'theni', 'state': 'Tamil nadu'}}\n",
      "{'_id': 12, 'first_name': 'Jeni', 'lat_name': 'J', 'countrycode': '+91', 'phonenumber': 6388278970, 'address': '#41,poda st,poovana', 'location': {'city': 'poovana', 'state': 'karnataka'}}\n"
     ]
    }
   ],
   "source": [
    "for i in not_exists:\n",
    "    print(i)"
   ]
  },
  {
   "cell_type": "code",
   "execution_count": 64,
   "id": "71db1dcd",
   "metadata": {},
   "outputs": [],
   "source": [
    "#update,country to location:\n",
    "up_country = tele_dir.update_many({'location.country':{'$exists':False}},{'$set':{\"location.country\":\"India\"}})"
   ]
  },
  {
   "cell_type": "code",
   "execution_count": 67,
   "id": "0cce37be",
   "metadata": {},
   "outputs": [],
   "source": [
    "#checking after update \n",
    "up_check = tele_dir.find({'location.country':{'$exists':False}})    "
   ]
  },
  {
   "cell_type": "code",
   "execution_count": 69,
   "id": "28f577f8",
   "metadata": {},
   "outputs": [],
   "source": [
    "#no output will be generated\n",
    "for i in up_check:\n",
    "    print(i)"
   ]
  },
  {
   "cell_type": "code",
   "execution_count": 73,
   "id": "73487118",
   "metadata": {},
   "outputs": [],
   "source": [
    "#to confrim again id 11 and 12 does not had country fields: have a look with In[63] to check the updated\n",
    "check_upA = tele_dir.find({'$and':[{'_id':{'$in':[11,12]}}]})"
   ]
  },
  {
   "cell_type": "code",
   "execution_count": 74,
   "id": "ca62d401",
   "metadata": {},
   "outputs": [
    {
     "name": "stdout",
     "output_type": "stream",
     "text": [
      "{'_id': 11, 'first_name': 'Prem', 'lat_name': 'M', 'countrycode': '+91', 'phonenumber': 8788278970, 'address': '#41,periyakovil st,theni', 'location': {'city': 'theni', 'state': 'Tamil nadu', 'country': 'India'}}\n",
      "{'_id': 12, 'first_name': 'Jeni', 'lat_name': 'J', 'countrycode': '+91', 'phonenumber': 6388278970, 'address': '#41,poda st,poovana', 'location': {'city': 'poovana', 'state': 'karnataka', 'country': 'India'}}\n"
     ]
    }
   ],
   "source": [
    "for i in check_upA:\n",
    "    print(i)"
   ]
  },
  {
   "cell_type": "code",
   "execution_count": 75,
   "id": "04ae45d2",
   "metadata": {},
   "outputs": [
    {
     "data": {
      "text/plain": [
       "<pymongo.results.DeleteResult at 0x22797c31ed0>"
      ]
     },
     "execution_count": 75,
     "metadata": {},
     "output_type": "execute_result"
    }
   ],
   "source": [
    "#lets delete one:\n",
    "tele_dir.delete_one({})"
   ]
  },
  {
   "cell_type": "code",
   "execution_count": 76,
   "id": "3a2879dd",
   "metadata": {},
   "outputs": [
    {
     "data": {
      "text/plain": [
       "{'_id': 1,\n",
       " 'first_name': 'Tharunesh',\n",
       " 'lat_name': 'M',\n",
       " 'countrycode': '+91',\n",
       " 'phonenumber': 8778278970,\n",
       " 'address': '#41,periyakovil st,viruthunagar',\n",
       " 'location': {'city': 'viruthunagar',\n",
       "  'state': 'Tamil nadu',\n",
       "  'country': 'India'}}"
      ]
     },
     "execution_count": 76,
     "metadata": {},
     "output_type": "execute_result"
    }
   ],
   "source": [
    "#_id = 0 is deleted by delete_one \n",
    "tele_dir.find_one()"
   ]
  },
  {
   "cell_type": "code",
   "execution_count": 77,
   "id": "f1ede7d2",
   "metadata": {},
   "outputs": [],
   "source": [
    "#lets insert id = 0 again\n",
    "telephone_directory={'_id': 0,\n",
    "              'first_name': 'Thamizhiniyan',\n",
    "                'lat_name': 'A.T',\n",
    "             'countrycode': '+91',\n",
    "             'phonenumber': 8778295795,\n",
    "                 'address': '#40,karuppukovil,viruthunagar',\n",
    "                'location': {'state': 'TamilNadu', 'country': 'India'}}"
   ]
  },
  {
   "cell_type": "code",
   "execution_count": 78,
   "id": "28c7cd7f",
   "metadata": {},
   "outputs": [
    {
     "data": {
      "text/plain": [
       "<pymongo.results.InsertOneResult at 0x2279a3819c0>"
      ]
     },
     "execution_count": 78,
     "metadata": {},
     "output_type": "execute_result"
    }
   ],
   "source": [
    "tele_dir.insert_one(telephone_directory)"
   ]
  },
  {
   "cell_type": "code",
   "execution_count": 85,
   "id": "1dc92045",
   "metadata": {},
   "outputs": [],
   "source": [
    "a = tele_dir.find().sort('_id',1)"
   ]
  },
  {
   "cell_type": "code",
   "execution_count": 86,
   "id": "d87abd83",
   "metadata": {},
   "outputs": [
    {
     "name": "stdout",
     "output_type": "stream",
     "text": [
      "{'_id': 0, 'first_name': 'Thamizhiniyan', 'lat_name': 'A.T', 'countrycode': '+91', 'phonenumber': 8778295795, 'address': '#40,karuppukovil,viruthunagar', 'location': {'state': 'TamilNadu', 'country': 'India'}}\n",
      "{'_id': 1, 'first_name': 'Tharunesh', 'lat_name': 'M', 'countrycode': '+91', 'phonenumber': 8778278970, 'address': '#41,periyakovil st,viruthunagar', 'location': {'city': 'viruthunagar', 'state': 'Tamil nadu', 'country': 'India'}}\n",
      "{'_id': 2, 'first_name': 'Rohit', 'lat_name': 'M', 'countrycode': '+91', 'phonenumber': 9789877553, 'address': '#42,periyakovil st,gundur', 'location': {'city': 'gundur', 'state': 'AndhraPradesh', 'country': 'India'}}\n",
      "{'_id': 3, 'first_name': 'Lokesh', 'lat_name': 'K', 'countrycode': '+91', 'phonenumber': 9788278970, 'address': '#41,periyakovil st,yangotok', 'location': {'city': 'yangotok', 'state': 'Sikkim', 'country': 'India'}}\n",
      "{'_id': 4, 'first_name': 'Raj Kumar', 'lat_name': 'S', 'countrycode': '+91', 'phonenumber': 877827098, 'address': '#41,pampa st,cochin', 'location': {'city': 'cochin', 'state': 'Kerala', 'country': 'India'}}\n",
      "{'_id': 5, 'first_name': 'Rokesh', 'lat_name': 'M', 'countrycode': '+91', 'phonenumber': 9788278989, 'address': '#41,Anna st,arakkonam', 'location': {'city': 'arakkonam', 'state': 'Tamil nadu', 'country': 'India'}}\n",
      "{'_id': 6, 'first_name': 'vinish', 'lat_name': 'K', 'countrycode': '+91', 'phonenumber': 9788278971, 'address': '#41,karunesh st,yangotok', 'location': {'city': 'yangotok', 'state': 'Sikkim', 'country': 'India'}}\n",
      "{'_id': 7, 'first_name': 'Anish', 'lat_name': 'S', 'countrycode': '+91', 'phonenumber': 9788278790, 'address': '#41,periyakovil st,yangotok', 'location': {'city': 'yangotok', 'state': 'Sikkim', 'country': 'India'}}\n",
      "{'_id': 8, 'first_name': 'Ayesha', 'lat_name': 'K', 'countrycode': '+91', 'phonenumber': 9788728970, 'address': '#41,mount st,yangotok', 'location': {'city': 'kozehodu', 'state': 'kerala', 'country': 'India'}}\n",
      "{'_id': 9, 'first_name': 'sudha', 'lat_name': 'K', 'countrycode': '+91', 'phonenumber': 9799278970, 'address': '#41,peacock st,karana', 'location': {'city': 'karna', 'state': 'karnataka', 'country': 'India'}}\n",
      "{'_id': 10, 'first_name': 'Teja', 'lat_name': 'K', 'countrycode': '+91', 'phonenumber': 9787258970, 'address': '#41,rayasema st,kadapa', 'location': {'city': 'kadapa', 'state': 'AndhraPradesh', 'country': 'India'}}\n",
      "{'_id': 11, 'first_name': 'Prem', 'lat_name': 'M', 'countrycode': '+91', 'phonenumber': 8788278970, 'address': '#41,periyakovil st,theni', 'location': {'city': 'theni', 'state': 'Tamil nadu', 'country': 'India'}}\n",
      "{'_id': 12, 'first_name': 'Jeni', 'lat_name': 'J', 'countrycode': '+91', 'phonenumber': 6388278970, 'address': '#41,poda st,poovana', 'location': {'city': 'poovana', 'state': 'karnataka', 'country': 'India'}}\n"
     ]
    }
   ],
   "source": [
    "for i in a:\n",
    "    print(i)"
   ]
  },
  {
   "cell_type": "code",
   "execution_count": 91,
   "id": "ba1a3a7e",
   "metadata": {},
   "outputs": [
    {
     "name": "stdout",
     "output_type": "stream",
     "text": [
      "_id\n",
      "first_name\n",
      "lat_name\n",
      "countrycode\n",
      "phonenumber\n",
      "address\n",
      "location\n"
     ]
    }
   ],
   "source": [
    "# lets look at the keys first:\n",
    "allKeys= tele_dir.find_one()\n",
    "for key in allKeys:\n",
    "    print(key)\n"
   ]
  },
  {
   "cell_type": "code",
   "execution_count": 101,
   "id": "375875a3",
   "metadata": {},
   "outputs": [],
   "source": [
    "# lets rename the lat_name in the telephone directory\n",
    "rename=tele_dir.update_many({'_id':{'$exists':True}},\n",
    "                            {'$rename':{'lat_name':\"last_name\"}}\n",
    "                            )"
   ]
  },
  {
   "cell_type": "code",
   "execution_count": 102,
   "id": "5dd04cc6",
   "metadata": {},
   "outputs": [
    {
     "name": "stdout",
     "output_type": "stream",
     "text": [
      "_id\n",
      "first_name\n",
      "countrycode\n",
      "phonenumber\n",
      "address\n",
      "location\n",
      "last_name\n"
     ]
    }
   ],
   "source": [
    "allKeys= tele_dir.find_one()\n",
    "for key in allKeys:\n",
    "    print(key)"
   ]
  },
  {
   "cell_type": "code",
   "execution_count": 108,
   "id": "8d8af2da",
   "metadata": {},
   "outputs": [],
   "source": [
    "#add gender to telephone directory:\n",
    "set_gender = tele_dir.update_many({'_id':{'$exists':True}},\n",
    "                     {'$set':{'gender':'male'}})"
   ]
  },
  {
   "cell_type": "code",
   "execution_count": 111,
   "id": "c687c839",
   "metadata": {},
   "outputs": [
    {
     "name": "stdout",
     "output_type": "stream",
     "text": [
      "{'_id': 1, 'first_name': 'Tharunesh', 'countrycode': '+91', 'phonenumber': 8778278970, 'address': '#41,periyakovil st,viruthunagar', 'location': {'city': 'viruthunagar', 'state': 'Tamil nadu', 'country': 'India'}, 'last_name': 'M', 'gender': 'male'}\n",
      "{'_id': 2, 'first_name': 'Rohit', 'countrycode': '+91', 'phonenumber': 9789877553, 'address': '#42,periyakovil st,gundur', 'location': {'city': 'gundur', 'state': 'AndhraPradesh', 'country': 'India'}, 'last_name': 'M', 'gender': 'male'}\n",
      "{'_id': 3, 'first_name': 'Lokesh', 'countrycode': '+91', 'phonenumber': 9788278970, 'address': '#41,periyakovil st,yangotok', 'location': {'city': 'yangotok', 'state': 'Sikkim', 'country': 'India'}, 'last_name': 'K', 'gender': 'male'}\n",
      "{'_id': 4, 'first_name': 'Raj Kumar', 'countrycode': '+91', 'phonenumber': 877827098, 'address': '#41,pampa st,cochin', 'location': {'city': 'cochin', 'state': 'Kerala', 'country': 'India'}, 'last_name': 'S', 'gender': 'male'}\n",
      "{'_id': 5, 'first_name': 'Rokesh', 'countrycode': '+91', 'phonenumber': 9788278989, 'address': '#41,Anna st,arakkonam', 'location': {'city': 'arakkonam', 'state': 'Tamil nadu', 'country': 'India'}, 'last_name': 'M', 'gender': 'male'}\n",
      "{'_id': 6, 'first_name': 'vinish', 'countrycode': '+91', 'phonenumber': 9788278971, 'address': '#41,karunesh st,yangotok', 'location': {'city': 'yangotok', 'state': 'Sikkim', 'country': 'India'}, 'last_name': 'K', 'gender': 'male'}\n",
      "{'_id': 7, 'first_name': 'Anish', 'countrycode': '+91', 'phonenumber': 9788278790, 'address': '#41,periyakovil st,yangotok', 'location': {'city': 'yangotok', 'state': 'Sikkim', 'country': 'India'}, 'last_name': 'S', 'gender': 'male'}\n",
      "{'_id': 8, 'first_name': 'Ayesha', 'countrycode': '+91', 'phonenumber': 9788728970, 'address': '#41,mount st,yangotok', 'location': {'city': 'kozehodu', 'state': 'kerala', 'country': 'India'}, 'last_name': 'K', 'gender': 'male'}\n",
      "{'_id': 9, 'first_name': 'sudha', 'countrycode': '+91', 'phonenumber': 9799278970, 'address': '#41,peacock st,karana', 'location': {'city': 'karna', 'state': 'karnataka', 'country': 'India'}, 'last_name': 'K', 'gender': 'male'}\n",
      "{'_id': 10, 'first_name': 'Teja', 'countrycode': '+91', 'phonenumber': 9787258970, 'address': '#41,rayasema st,kadapa', 'location': {'city': 'kadapa', 'state': 'AndhraPradesh', 'country': 'India'}, 'last_name': 'K', 'gender': 'male'}\n",
      "{'_id': 11, 'first_name': 'Prem', 'countrycode': '+91', 'phonenumber': 8788278970, 'address': '#41,periyakovil st,theni', 'location': {'city': 'theni', 'state': 'Tamil nadu', 'country': 'India'}, 'last_name': 'M', 'gender': 'male'}\n",
      "{'_id': 12, 'first_name': 'Jeni', 'countrycode': '+91', 'phonenumber': 6388278970, 'address': '#41,poda st,poovana', 'location': {'city': 'poovana', 'state': 'karnataka', 'country': 'India'}, 'last_name': 'J', 'gender': 'male'}\n",
      "{'_id': 0, 'first_name': 'Thamizhiniyan', 'countrycode': '+91', 'phonenumber': 8778295795, 'address': '#40,karuppukovil,viruthunagar', 'location': {'state': 'TamilNadu', 'country': 'India'}, 'last_name': 'A.T', 'gender': 'male'}\n"
     ]
    }
   ],
   "source": [
    "for i in tele_dir.find():\n",
    "    print(i)"
   ]
  },
  {
   "cell_type": "code",
   "execution_count": 114,
   "id": "709c718f",
   "metadata": {},
   "outputs": [
    {
     "name": "stdout",
     "output_type": "stream",
     "text": [
      "{'_id': 1, 'first_name': 'Tharunesh'}\n",
      "{'_id': 2, 'first_name': 'Rohit'}\n",
      "{'_id': 3, 'first_name': 'Lokesh'}\n",
      "{'_id': 4, 'first_name': 'Raj Kumar'}\n",
      "{'_id': 5, 'first_name': 'Rokesh'}\n",
      "{'_id': 6, 'first_name': 'vinish'}\n",
      "{'_id': 7, 'first_name': 'Anish'}\n",
      "{'_id': 8, 'first_name': 'Ayesha'}\n",
      "{'_id': 9, 'first_name': 'sudha'}\n",
      "{'_id': 10, 'first_name': 'Teja'}\n",
      "{'_id': 11, 'first_name': 'Prem'}\n",
      "{'_id': 12, 'first_name': 'Jeni'}\n",
      "{'_id': 0, 'first_name': 'Thamizhiniyan'}\n"
     ]
    }
   ],
   "source": [
    "for i in tele_dir.aggregate([{'$project':{'first_name':1}}]):\n",
    "    print(i)"
   ]
  },
  {
   "cell_type": "code",
   "execution_count": 115,
   "id": "98724e23",
   "metadata": {},
   "outputs": [],
   "source": [
    "change_gender = tele_dir.update_many({'_id':{'$in':[8,9,12]}},{'$set':{'gender':'female'}})"
   ]
  },
  {
   "cell_type": "code",
   "execution_count": 117,
   "id": "d5da2752",
   "metadata": {},
   "outputs": [
    {
     "name": "stdout",
     "output_type": "stream",
     "text": [
      "{'_id': 1, 'first_name': 'Tharunesh', 'gender': 'male'}\n",
      "{'_id': 2, 'first_name': 'Rohit', 'gender': 'male'}\n",
      "{'_id': 3, 'first_name': 'Lokesh', 'gender': 'male'}\n",
      "{'_id': 4, 'first_name': 'Raj Kumar', 'gender': 'male'}\n",
      "{'_id': 5, 'first_name': 'Rokesh', 'gender': 'male'}\n",
      "{'_id': 6, 'first_name': 'vinish', 'gender': 'male'}\n",
      "{'_id': 7, 'first_name': 'Anish', 'gender': 'male'}\n",
      "{'_id': 8, 'first_name': 'Ayesha', 'gender': 'female'}\n",
      "{'_id': 9, 'first_name': 'sudha', 'gender': 'female'}\n",
      "{'_id': 10, 'first_name': 'Teja', 'gender': 'male'}\n",
      "{'_id': 11, 'first_name': 'Prem', 'gender': 'male'}\n",
      "{'_id': 12, 'first_name': 'Jeni', 'gender': 'female'}\n",
      "{'_id': 0, 'first_name': 'Thamizhiniyan', 'gender': 'male'}\n"
     ]
    }
   ],
   "source": [
    "for i in tele_dir.aggregate([{'$project':{'first_name':1,'gender':1}}]):\n",
    "    print(i)"
   ]
  },
  {
   "cell_type": "code",
   "execution_count": null,
   "id": "59eb4fc5",
   "metadata": {},
   "outputs": [],
   "source": []
  }
 ],
 "metadata": {
  "kernelspec": {
   "display_name": "Python 3 (ipykernel)",
   "language": "python",
   "name": "python3"
  },
  "language_info": {
   "codemirror_mode": {
    "name": "ipython",
    "version": 3
   },
   "file_extension": ".py",
   "mimetype": "text/x-python",
   "name": "python",
   "nbconvert_exporter": "python",
   "pygments_lexer": "ipython3",
   "version": "3.10.7"
  }
 },
 "nbformat": 4,
 "nbformat_minor": 5
}
